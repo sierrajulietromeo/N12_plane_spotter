{
  "nbformat": 4,
  "nbformat_minor": 0,
  "metadata": {
    "colab": {
      "name": "N15_Plane_Tracker.ipynb",
      "version": "0.3.2",
      "provenance": [],
      "collapsed_sections": [],
      "include_colab_link": true
    },
    "kernelspec": {
      "name": "python3",
      "display_name": "Python 3"
    }
  },
  "cells": [
    {
      "cell_type": "markdown",
      "metadata": {
        "id": "view-in-github",
        "colab_type": "text"
      },
      "source": [
        "[View in Colaboratory](https://colab.research.google.com/github/sierrajulietromeo/N12_plane_spotter/blob/master/N15_Plane_Tracker.ipynb)"
      ]
    },
    {
      "metadata": {
        "id": "PV__KTsXPpRJ",
        "colab_type": "text"
      },
      "cell_type": "markdown",
      "source": [
        "# N12 Plane Tracker\n",
        "\n",
        "I'm using a Raspberry Pi Zero W and a USB TV Tuner to pick up planes flying close to my house. Living in North London we are on the approach for Heathrow and I wanted to collect this data and do things with it.\n",
        "\n"
      ]
    },
    {
      "metadata": {
        "id": "sM0QKAfDhPkb",
        "colab_type": "code",
        "colab": {
          "base_uri": "https://localhost:8080/",
          "height": 768
        },
        "outputId": "17b8858a-64f3-49dc-8a8c-1c2aa3956227"
      },
      "cell_type": "code",
      "source": [
        "!pip install gspread\n",
        "!pip install gspread-dataframe\n",
        "!pip install fiona"
      ],
      "execution_count": 1,
      "outputs": [
        {
          "output_type": "stream",
          "text": [
            "Collecting gspread\n",
            "  Downloading https://files.pythonhosted.org/packages/95/35/c71e32929d1ce56dee17f3e51d167067c8361b87391140ceb1e50bece12b/gspread-3.0.1-py3-none-any.whl\n",
            "Requirement already satisfied: requests>=2.2.1 in /usr/local/lib/python3.6/dist-packages (from gspread) (2.18.4)\n",
            "Requirement already satisfied: certifi>=2017.4.17 in /usr/local/lib/python3.6/dist-packages (from requests>=2.2.1->gspread) (2018.8.24)\n",
            "Requirement already satisfied: idna<2.7,>=2.5 in /usr/local/lib/python3.6/dist-packages (from requests>=2.2.1->gspread) (2.6)\n",
            "Requirement already satisfied: urllib3<1.23,>=1.21.1 in /usr/local/lib/python3.6/dist-packages (from requests>=2.2.1->gspread) (1.22)\n",
            "Requirement already satisfied: chardet<3.1.0,>=3.0.2 in /usr/local/lib/python3.6/dist-packages (from requests>=2.2.1->gspread) (3.0.4)\n",
            "Installing collected packages: gspread\n",
            "Successfully installed gspread-3.0.1\n",
            "Collecting gspread-dataframe\n",
            "  Downloading https://files.pythonhosted.org/packages/ca/2e/467a7ecf8d0295f39db4826bcdaf837ce2493036fff09026bdd0d252ecef/gspread_dataframe-3.0.2-py2.py3-none-any.whl\n",
            "Requirement already satisfied: pandas>=0.14.0 in /usr/local/lib/python3.6/dist-packages (from gspread-dataframe) (0.22.0)\n",
            "Requirement already satisfied: gspread>=3.0.0 in /usr/local/lib/python3.6/dist-packages (from gspread-dataframe) (3.0.1)\n",
            "Requirement already satisfied: pytz>=2011k in /usr/local/lib/python3.6/dist-packages (from pandas>=0.14.0->gspread-dataframe) (2018.5)\n",
            "Requirement already satisfied: python-dateutil>=2 in /usr/local/lib/python3.6/dist-packages (from pandas>=0.14.0->gspread-dataframe) (2.5.3)\n",
            "Requirement already satisfied: numpy>=1.9.0 in /usr/local/lib/python3.6/dist-packages (from pandas>=0.14.0->gspread-dataframe) (1.14.5)\n",
            "Requirement already satisfied: requests>=2.2.1 in /usr/local/lib/python3.6/dist-packages (from gspread>=3.0.0->gspread-dataframe) (2.18.4)\n",
            "Requirement already satisfied: six>=1.5 in /usr/local/lib/python3.6/dist-packages (from python-dateutil>=2->pandas>=0.14.0->gspread-dataframe) (1.11.0)\n",
            "Requirement already satisfied: urllib3<1.23,>=1.21.1 in /usr/local/lib/python3.6/dist-packages (from requests>=2.2.1->gspread>=3.0.0->gspread-dataframe) (1.22)\n",
            "Requirement already satisfied: certifi>=2017.4.17 in /usr/local/lib/python3.6/dist-packages (from requests>=2.2.1->gspread>=3.0.0->gspread-dataframe) (2018.8.24)\n",
            "Requirement already satisfied: chardet<3.1.0,>=3.0.2 in /usr/local/lib/python3.6/dist-packages (from requests>=2.2.1->gspread>=3.0.0->gspread-dataframe) (3.0.4)\n",
            "Requirement already satisfied: idna<2.7,>=2.5 in /usr/local/lib/python3.6/dist-packages (from requests>=2.2.1->gspread>=3.0.0->gspread-dataframe) (2.6)\n",
            "Installing collected packages: gspread-dataframe\n",
            "Successfully installed gspread-dataframe-3.0.2\n",
            "Collecting fiona\n",
            "\u001b[?25l  Downloading https://files.pythonhosted.org/packages/e3/bf/029958f4e3811ce7017fb5805d5203e8bde6c1816b902964acb2dec67863/Fiona-1.7.13-cp36-cp36m-manylinux1_x86_64.whl (15.8MB)\n",
            "\u001b[K    100% |████████████████████████████████| 15.8MB 2.3MB/s \n",
            "\u001b[?25hCollecting munch (from fiona)\n",
            "  Downloading https://files.pythonhosted.org/packages/68/f4/260ec98ea840757a0da09e0ed8135333d59b8dfebe9752a365b04857660a/munch-2.3.2.tar.gz\n",
            "Requirement already satisfied: six>=1.7 in /usr/local/lib/python3.6/dist-packages (from fiona) (1.11.0)\n",
            "Collecting cligj>=0.4 (from fiona)\n",
            "  Downloading https://files.pythonhosted.org/packages/fc/05/e8384e1f7c8689cd1b91818a24cc860077c73368fb285ba53fbd8556ec98/cligj-0.4.0-py3-none-any.whl\n",
            "Collecting click-plugins (from fiona)\n",
            "  Downloading https://files.pythonhosted.org/packages/95/dd/fef84cf1678418f241ef542c0288bdf215bdd3e35f1fe03dc5223a2e80ba/click_plugins-1.0.4-py2.py3-none-any.whl\n",
            "Collecting click>=4.0 (from cligj>=0.4->fiona)\n",
            "\u001b[?25l  Downloading https://files.pythonhosted.org/packages/34/c1/8806f99713ddb993c5366c362b2f908f18269f8d792aff1abfd700775a77/click-6.7-py2.py3-none-any.whl (71kB)\n",
            "\u001b[K    100% |████████████████████████████████| 71kB 22.9MB/s \n",
            "\u001b[?25hBuilding wheels for collected packages: munch\n",
            "  Running setup.py bdist_wheel for munch ... \u001b[?25l-\b \b\\\b \bdone\n",
            "\u001b[?25h  Stored in directory: /root/.cache/pip/wheels/db/bf/bc/06a3e1bfe0ab27d2e720ceb3cff3159398d92644c0cec2c125\n",
            "Successfully built munch\n",
            "Installing collected packages: munch, click, cligj, click-plugins, fiona\n",
            "Successfully installed click-6.7 click-plugins-1.0.4 cligj-0.4.0 fiona-1.7.13 munch-2.3.2\n"
          ],
          "name": "stdout"
        }
      ]
    },
    {
      "metadata": {
        "id": "N5zpWei8QRUE",
        "colab_type": "code",
        "colab": {}
      },
      "cell_type": "code",
      "source": [
        "import pandas as pd\n",
        "import gspread\n",
        "from gspread_dataframe import get_as_dataframe, set_with_dataframe\n"
      ],
      "execution_count": 0,
      "outputs": []
    },
    {
      "metadata": {
        "id": "LwZJsiOYTh0p",
        "colab_type": "code",
        "colab": {}
      },
      "cell_type": "code",
      "source": [
        "from google.colab import auth\n",
        "auth.authenticate_user()  # verifies your account to read files which you have access to. Make sure you have permission to read the file!\n",
        "from oauth2client.client import GoogleCredentials\n",
        "gc = gspread.authorize(GoogleCredentials.get_application_default()) "
      ],
      "execution_count": 0,
      "outputs": []
    },
    {
      "metadata": {
        "id": "4oVRFZFSTvfm",
        "colab_type": "code",
        "colab": {
          "base_uri": "https://localhost:8080/",
          "height": 496
        },
        "outputId": "d2f1b890-ffe0-42de-f573-ca9097cb34a2"
      },
      "cell_type": "code",
      "source": [
        "spreadsheet = gc.open(\"AC_data_2019\") # Open file using its name. Use this if the file is already anywhere in your drive\n",
        "sheet =  spreadsheet.get_worksheet(0)  # 0 means the first sheet in the file\n",
        "df = pd.DataFrame(sheet.get_all_records())\n",
        "df.head()\n",
        "\n"
      ],
      "execution_count": 8,
      "outputs": [
        {
          "output_type": "execute_result",
          "data": {
            "text/html": [
              "<div>\n",
              "<style scoped>\n",
              "    .dataframe tbody tr th:only-of-type {\n",
              "        vertical-align: middle;\n",
              "    }\n",
              "\n",
              "    .dataframe tbody tr th {\n",
              "        vertical-align: top;\n",
              "    }\n",
              "\n",
              "    .dataframe thead th {\n",
              "        text-align: right;\n",
              "    }\n",
              "</style>\n",
              "<table border=\"1\" class=\"dataframe\">\n",
              "  <thead>\n",
              "    <tr style=\"text-align: right;\">\n",
              "      <th></th>\n",
              "      <th>First Altitude</th>\n",
              "      <th>First Latitude</th>\n",
              "      <th>First Longitude</th>\n",
              "      <th>First Seen</th>\n",
              "      <th>Flight</th>\n",
              "      <th>High Dist</th>\n",
              "      <th>High Rssi</th>\n",
              "      <th>Last Altitude</th>\n",
              "      <th>Last Latitude</th>\n",
              "      <th>Last Longitude</th>\n",
              "      <th>Last Seen</th>\n",
              "      <th>Low Dist</th>\n",
              "      <th>Low Rssi</th>\n",
              "      <th>Messages</th>\n",
              "      <th>Squawk</th>\n",
              "      <th>Transponder</th>\n",
              "    </tr>\n",
              "  </thead>\n",
              "  <tbody>\n",
              "    <tr>\n",
              "      <th>0</th>\n",
              "      <td>0</td>\n",
              "      <td>4427774</td>\n",
              "      <td>0.040872</td>\n",
              "      <td>2018-09-23 19:58:37 Sunday</td>\n",
              "      <td>TAY029V</td>\n",
              "      <td>2662.2</td>\n",
              "      <td>-31.6</td>\n",
              "      <td>32025</td>\n",
              "      <td>44339539</td>\n",
              "      <td>0.040806</td>\n",
              "      <td>2018-09-23 20:05:05 Sunday</td>\n",
              "      <td>2658.4</td>\n",
              "      <td>-35.7</td>\n",
              "      <td>142</td>\n",
              "      <td>107</td>\n",
              "      <td>4cc0dc</td>\n",
              "    </tr>\n",
              "    <tr>\n",
              "      <th>1</th>\n",
              "      <td>40025</td>\n",
              "      <td>51545517</td>\n",
              "      <td>-0.649604</td>\n",
              "      <td>2018-09-23 20:21:15 Sunday</td>\n",
              "      <td>SVW39VV</td>\n",
              "      <td>3094.9</td>\n",
              "      <td>-31.9</td>\n",
              "      <td>39950</td>\n",
              "      <td>50795102</td>\n",
              "      <td>0.106659</td>\n",
              "      <td>2018-09-23 20:31:51 Sunday</td>\n",
              "      <td>3049.7</td>\n",
              "      <td>-35.5</td>\n",
              "      <td>205</td>\n",
              "      <td>6334</td>\n",
              "      <td>4d020f</td>\n",
              "    </tr>\n",
              "    <tr>\n",
              "      <th>2</th>\n",
              "      <td>39000</td>\n",
              "      <td>51805847</td>\n",
              "      <td>-0.420227</td>\n",
              "      <td>2018-09-23 20:43:38 Sunday</td>\n",
              "      <td>ETH503</td>\n",
              "      <td>3110.5</td>\n",
              "      <td>-31.9</td>\n",
              "      <td>38975</td>\n",
              "      <td>51634689</td>\n",
              "      <td>-0.005122</td>\n",
              "      <td>2018-09-23 20:51:39 Sunday</td>\n",
              "      <td>3100.1</td>\n",
              "      <td>-35.4</td>\n",
              "      <td>147</td>\n",
              "      <td>1160</td>\n",
              "      <td>04004c</td>\n",
              "    </tr>\n",
              "    <tr>\n",
              "      <th>3</th>\n",
              "      <td>39000</td>\n",
              "      <td>51764133</td>\n",
              "      <td>-0.405655</td>\n",
              "      <td>2018-09-23 21:09:19 Sunday</td>\n",
              "      <td>UAE232</td>\n",
              "      <td>3108</td>\n",
              "      <td>-31.9</td>\n",
              "      <td>39000</td>\n",
              "      <td>51631785</td>\n",
              "      <td>-0.006409</td>\n",
              "      <td>2018-09-23 21:15:41 Sunday</td>\n",
              "      <td>3099.9</td>\n",
              "      <td>-35.6</td>\n",
              "      <td>121</td>\n",
              "      <td>4742</td>\n",
              "      <td>89645b</td>\n",
              "    </tr>\n",
              "    <tr>\n",
              "      <th>4</th>\n",
              "      <td>38225</td>\n",
              "      <td>50551401</td>\n",
              "      <td>-0.542042</td>\n",
              "      <td>2018-09-23 19:58:37 Sunday</td>\n",
              "      <td></td>\n",
              "      <td>3035.2</td>\n",
              "      <td>-32.2</td>\n",
              "      <td>31800</td>\n",
              "      <td>50551401</td>\n",
              "      <td>-0.542042</td>\n",
              "      <td>2018-09-23 20:01:24 Sunday</td>\n",
              "      <td>3035.2</td>\n",
              "      <td>-34.6</td>\n",
              "      <td>49</td>\n",
              "      <td>6303</td>\n",
              "      <td>3964f4</td>\n",
              "    </tr>\n",
              "  </tbody>\n",
              "</table>\n",
              "</div>"
            ],
            "text/plain": [
              "   First Altitude First Latitude First Longitude                  First Seen  \\\n",
              "0               0        4427774        0.040872  2018-09-23 19:58:37 Sunday   \n",
              "1           40025       51545517       -0.649604  2018-09-23 20:21:15 Sunday   \n",
              "2           39000       51805847       -0.420227  2018-09-23 20:43:38 Sunday   \n",
              "3           39000       51764133       -0.405655  2018-09-23 21:09:19 Sunday   \n",
              "4           38225       50551401       -0.542042  2018-09-23 19:58:37 Sunday   \n",
              "\n",
              "    Flight High Dist  High Rssi  Last Altitude Last Latitude Last Longitude  \\\n",
              "0  TAY029V    2662.2      -31.6          32025      44339539       0.040806   \n",
              "1  SVW39VV    3094.9      -31.9          39950      50795102       0.106659   \n",
              "2   ETH503    3110.5      -31.9          38975      51634689      -0.005122   \n",
              "3   UAE232      3108      -31.9          39000      51631785      -0.006409   \n",
              "4             3035.2      -32.2          31800      50551401      -0.542042   \n",
              "\n",
              "                    Last Seen Low Dist  Low Rssi  Messages Squawk Transponder  \n",
              "0  2018-09-23 20:05:05 Sunday   2658.4     -35.7       142    107      4cc0dc  \n",
              "1  2018-09-23 20:31:51 Sunday   3049.7     -35.5       205   6334      4d020f  \n",
              "2  2018-09-23 20:51:39 Sunday   3100.1     -35.4       147   1160      04004c  \n",
              "3  2018-09-23 21:15:41 Sunday   3099.9     -35.6       121   4742      89645b  \n",
              "4  2018-09-23 20:01:24 Sunday   3035.2     -34.6        49   6303      3964f4  "
            ]
          },
          "metadata": {
            "tags": []
          },
          "execution_count": 8
        }
      ]
    },
    {
      "metadata": {
        "id": "yGI_Stej05ak",
        "colab_type": "code",
        "colab": {
          "base_uri": "https://localhost:8080/",
          "height": 34
        },
        "outputId": "5879e4b8-76fa-4c92-f320-731b7c3a9978"
      },
      "cell_type": "code",
      "source": [
        "len(df)  # Checking number of records in the dataframe"
      ],
      "execution_count": 103,
      "outputs": [
        {
          "output_type": "execute_result",
          "data": {
            "text/plain": [
              "514"
            ]
          },
          "metadata": {
            "tags": []
          },
          "execution_count": 103
        }
      ]
    },
    {
      "metadata": {
        "id": "6Lh1pVHMlwrg",
        "colab_type": "code",
        "colab": {
          "base_uri": "https://localhost:8080/",
          "height": 54
        },
        "outputId": "ab512c1b-e7b5-497a-c087-e7a623a32f21"
      },
      "cell_type": "code",
      "source": [
        "print(list(df.columns))"
      ],
      "execution_count": 104,
      "outputs": [
        {
          "output_type": "stream",
          "text": [
            "['First Altitude', 'First Latitude', 'First Longitude', 'First Seen', 'Flight', 'High Dist', 'High Rssi', 'Last Altitude', 'Last Latitude', 'Last Longitude', 'Last Seen', 'Low Dist', 'Low Rssi', 'Messages', 'Squawk', 'Transponder']\n"
          ],
          "name": "stdout"
        }
      ]
    },
    {
      "metadata": {
        "id": "-LtPhUPetw2t",
        "colab_type": "code",
        "colab": {
          "base_uri": "https://localhost:8080/",
          "height": 34
        },
        "outputId": "caa66db0-c753-4fd9-8ed7-16a639849e43"
      },
      "cell_type": "code",
      "source": [
        "# Create new dataframe based on DF of all the planes that I first detect between 5000 and 10000 ft high - 5000 might be a bit low\n",
        "df2 = df[df['First Altitude'].between(5000, 10000, inclusive=True)]\n",
        "#df2.head()\n",
        "len(df2)"
      ],
      "execution_count": 105,
      "outputs": [
        {
          "output_type": "execute_result",
          "data": {
            "text/plain": [
              "135"
            ]
          },
          "metadata": {
            "tags": []
          },
          "execution_count": 105
        }
      ]
    },
    {
      "metadata": {
        "id": "lxgChxbSvsTO",
        "colab_type": "code",
        "colab": {
          "base_uri": "https://localhost:8080/",
          "height": 34
        },
        "outputId": "3b786724-d987-4159-8422-175146fb5d9b"
      },
      "cell_type": "code",
      "source": [
        "# Then refine that dataframe further to planes where last altitude detected was between 0-1000ft.   Now the dataset is of planes that overflew my house\n",
        "df2 = df2[df2['Last Altitude'].between(0, 1000, inclusive=True)]\n",
        "#df2.head(20)\n",
        "len(df2)   # length of dataframe"
      ],
      "execution_count": 107,
      "outputs": [
        {
          "output_type": "execute_result",
          "data": {
            "text/plain": [
              "39"
            ]
          },
          "metadata": {
            "tags": []
          },
          "execution_count": 107
        }
      ]
    },
    {
      "metadata": {
        "id": "iccBMlfODeM_",
        "colab_type": "code",
        "colab": {
          "base_uri": "https://localhost:8080/",
          "height": 320
        },
        "outputId": "23705290-0e17-4d39-9e19-036de3e9b3ed"
      },
      "cell_type": "code",
      "source": [
        "import fiona\n",
        "c = fiona.open('ne_10m_airports.shp', 'r')"
      ],
      "execution_count": 11,
      "outputs": [
        {
          "output_type": "error",
          "ename": "OSError",
          "evalue": "ignored",
          "traceback": [
            "\u001b[0;31m---------------------------------------------------------------------------\u001b[0m",
            "\u001b[0;31mOSError\u001b[0m                                   Traceback (most recent call last)",
            "\u001b[0;32m<ipython-input-11-7529813e9965>\u001b[0m in \u001b[0;36m<module>\u001b[0;34m()\u001b[0m\n\u001b[1;32m      1\u001b[0m \u001b[0;32mimport\u001b[0m \u001b[0mfiona\u001b[0m\u001b[0;34m\u001b[0m\u001b[0m\n\u001b[0;32m----> 2\u001b[0;31m \u001b[0mc\u001b[0m \u001b[0;34m=\u001b[0m \u001b[0mfiona\u001b[0m\u001b[0;34m.\u001b[0m\u001b[0mopen\u001b[0m\u001b[0;34m(\u001b[0m\u001b[0;34m'ne_10m_airports.shp'\u001b[0m\u001b[0;34m,\u001b[0m \u001b[0;34m'r'\u001b[0m\u001b[0;34m)\u001b[0m\u001b[0;34m\u001b[0m\u001b[0m\n\u001b[0m",
            "\u001b[0;32m/usr/local/lib/python3.6/dist-packages/fiona/__init__.py\u001b[0m in \u001b[0;36mopen\u001b[0;34m(path, mode, driver, schema, crs, encoding, layer, vfs, enabled_drivers, crs_wkt)\u001b[0m\n\u001b[1;32m    160\u001b[0m                 \u001b[0;32mraise\u001b[0m \u001b[0mIOError\u001b[0m\u001b[0;34m(\u001b[0m\u001b[0;34m\"no such archive file: %r\"\u001b[0m \u001b[0;34m%\u001b[0m \u001b[0marchive\u001b[0m\u001b[0;34m)\u001b[0m\u001b[0;34m\u001b[0m\u001b[0m\n\u001b[1;32m    161\u001b[0m         \u001b[0;32melif\u001b[0m \u001b[0mpath\u001b[0m \u001b[0;34m!=\u001b[0m \u001b[0;34m'-'\u001b[0m \u001b[0;32mand\u001b[0m \u001b[0;32mnot\u001b[0m \u001b[0mos\u001b[0m\u001b[0;34m.\u001b[0m\u001b[0mpath\u001b[0m\u001b[0;34m.\u001b[0m\u001b[0mexists\u001b[0m\u001b[0;34m(\u001b[0m\u001b[0mpath\u001b[0m\u001b[0;34m)\u001b[0m\u001b[0;34m:\u001b[0m\u001b[0;34m\u001b[0m\u001b[0m\n\u001b[0;32m--> 162\u001b[0;31m             \u001b[0;32mraise\u001b[0m \u001b[0mIOError\u001b[0m\u001b[0;34m(\u001b[0m\u001b[0;34m\"no such file or directory: %r\"\u001b[0m \u001b[0;34m%\u001b[0m \u001b[0mpath\u001b[0m\u001b[0;34m)\u001b[0m\u001b[0;34m\u001b[0m\u001b[0m\n\u001b[0m\u001b[1;32m    163\u001b[0m         c = Collection(path, mode, driver=driver, encoding=encoding,\n\u001b[1;32m    164\u001b[0m                        \u001b[0mlayer\u001b[0m\u001b[0;34m=\u001b[0m\u001b[0mlayer\u001b[0m\u001b[0;34m,\u001b[0m \u001b[0mvsi\u001b[0m\u001b[0;34m=\u001b[0m\u001b[0mvsi\u001b[0m\u001b[0;34m,\u001b[0m \u001b[0marchive\u001b[0m\u001b[0;34m=\u001b[0m\u001b[0marchive\u001b[0m\u001b[0;34m,\u001b[0m\u001b[0;34m\u001b[0m\u001b[0m\n",
            "\u001b[0;31mOSError\u001b[0m: no such file or directory: 'ne_10m_airports.shp'"
          ]
        }
      ]
    }
  ]
}